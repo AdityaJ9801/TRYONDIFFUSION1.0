{
  "nbformat": 4,
  "nbformat_minor": 0,
  "metadata": {
    "colab": {
      "provenance": [],
      "authorship_tag": "ABX9TyNnAA4VasrDaW6THTQu8YHK",
      "include_colab_link": true
    },
    "kernelspec": {
      "name": "python3",
      "display_name": "Python 3"
    },
    "language_info": {
      "name": "python"
    }
  },
  "cells": [
    {
      "cell_type": "markdown",
      "metadata": {
        "id": "view-in-github",
        "colab_type": "text"
      },
      "source": [
        "<a href=\"https://colab.research.google.com/github/AdityaJ9801/TRYONDIFFUSION1.0/blob/main/Activation.ipynb\" target=\"_parent\"><img src=\"https://colab.research.google.com/assets/colab-badge.svg\" alt=\"Open In Colab\"/></a>"
      ]
    },
    {
      "cell_type": "markdown",
      "source": [
        "Ref :\n",
        "- https://keras.io/api/layers/activations/\n",
        "- https://medium.com/@cmukesh8688/activation-functions-sigmoid-tanh-relu-leaky-relu-softmax-50d3778dcea5\n",
        "- https://towardsdatascience.com/activation-functions-in-neural-networks-how-to-choose-the-right-one-cb20414c04e5/\n"
      ],
      "metadata": {
        "id": "8X79MElGwzA4"
      }
    },
    {
      "cell_type": "markdown",
      "source": [
        "## Activation Function:\n",
        "\n",
        "Activation functions are generally two types, These are\n",
        "\n",
        "- Linear or Identity Activation Function\n",
        "- Non-Linear Activation Function.\n",
        "\n",
        "Generally, neural networks use `non-linear activation functions`, which can help the network learn complex data, compute and learn almost any function representing a question, and provide accurate predictions.\n"
      ],
      "metadata": {
        "id": "w2NKS5dDxI1t"
      }
    },
    {
      "cell_type": "code",
      "execution_count": 2,
      "metadata": {
        "id": "du-IJFMawwBO"
      },
      "outputs": [],
      "source": [
        "#@title 1.Sigmoid Activation Function:\n",
        "import numpy as np\n",
        "\n",
        "def sigmoid(z):\n",
        "  return 1.0 / (1 + np.exp(-z))"
      ]
    },
    {
      "cell_type": "markdown",
      "source": [
        "The main disadvantage of the sigmoid function is that the so-called vanishing gradient problem can occur. With very large or minimal input values, the gradient value may approach zero during derivation. As a result, the neurons weights are not adjusted at all or only very slightly during backpropagation, making training slow and inefficient.\n",
        "\n",
        "---\n"
      ],
      "metadata": {
        "id": "0P_YDMjg2KkM"
      }
    },
    {
      "cell_type": "code",
      "source": [
        "#@title 2. Tanh or Hyperbolic tangent:\n",
        "def tanh(z):\n",
        "\treturn (np.exp(z) - np.exp(-z)) / (np.exp(z) + np.exp(-z))\n",
        ""
      ],
      "metadata": {
        "id": "tq3XZJyVxiMB"
      },
      "execution_count": null,
      "outputs": []
    },
    {
      "cell_type": "code",
      "source": [
        "#@title 3. ReLU activation function\n",
        "def relu(z):\n",
        "  return max(0, z)"
      ],
      "metadata": {
        "id": "pcBtHG1GyUzJ"
      },
      "execution_count": null,
      "outputs": []
    },
    {
      "cell_type": "code",
      "source": [
        "#@title 4. Leaky_ReLU activation function\n",
        "def leakyrelu(z, alpha):\n",
        "\treturn max(alpha * z, z)"
      ],
      "metadata": {
        "id": "cTeg7XlWzAQg"
      },
      "execution_count": null,
      "outputs": []
    },
    {
      "cell_type": "code",
      "source": [
        "#@title Activation in pytorch [docs](https://docs.pytorch.org/docs/stable/nn.html#non-linear-activations-weighted-sum-nonlinearity)\n",
        "import torch\n",
        "import torch.nn as nn\n",
        "\n",
        "m = nn.ReLU()\n",
        "input = torch.randn(2)\n",
        "output = m(input)\n",
        "print(output,input)"
      ],
      "metadata": {
        "colab": {
          "base_uri": "https://localhost:8080/"
        },
        "id": "l9WB94aYzK_P",
        "outputId": "bc8449f9-63a7-48c2-ae4b-3e070a3dbd4f"
      },
      "execution_count": 6,
      "outputs": [
        {
          "output_type": "stream",
          "name": "stdout",
          "text": [
            "tensor([0.0000, 0.9898]) tensor([-0.8066,  0.9898])\n"
          ]
        }
      ]
    }
  ]
}